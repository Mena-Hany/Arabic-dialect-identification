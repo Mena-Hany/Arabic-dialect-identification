{
 "cells": [
  {
   "cell_type": "markdown",
   "metadata": {},
   "source": [
    "# Data fetching"
   ]
  },
  {
   "cell_type": "code",
   "execution_count": null,
   "metadata": {},
   "outputs": [],
   "source": [
    "# Reading the file\n",
    "df = pd.read_csv('dialect_dataset.csv')"
   ]
  },
  {
   "cell_type": "code",
   "execution_count": null,
   "metadata": {},
   "outputs": [],
   "source": [
    "#Loop for post request to get the whole data\n",
    "df10 = pd.DataFrame()\n",
    "for i in range(int(len(df)/1000)):\n",
    "    df5 = df[i*1000:i*1000 + 1000]\n",
    "    id_list = df5['id'].astype(str).values.tolist()\n",
    "    id_jsonStr = json.dumps(id_list)\n",
    "    x = requests.post(url,data=id_jsonStr)\n",
    "    with open ('text_data.json','w') as json_file:\n",
    "        json.dump(x.json(),json_file)\n",
    "    ds_text = pd.read_json('text_data.json',typ = \"series\")\n",
    "    df_text = ds_text.to_frame()\n",
    "    df10 = df10.append(df_text)"
   ]
  },
  {
   "cell_type": "code",
   "execution_count": null,
   "metadata": {},
   "outputs": [],
   "source": [
    "#Organizing the data into data frame\n",
    "df10 = df10.reset_index()\n",
    "df10 = df10.drop(columns=['index'])\n",
    "df_total = pd.concat([df,df10],axis=1)\n",
    "df_total.rename(columns={0: 'text'}, inplace=True)"
   ]
  }
 ],
 "metadata": {
  "kernelspec": {
   "display_name": "Python 3",
   "language": "python",
   "name": "python3"
  },
  "language_info": {
   "codemirror_mode": {
    "name": "ipython",
    "version": 3
   },
   "file_extension": ".py",
   "mimetype": "text/x-python",
   "name": "python",
   "nbconvert_exporter": "python",
   "pygments_lexer": "ipython3",
   "version": "3.8.5"
  }
 },
 "nbformat": 4,
 "nbformat_minor": 4
}
