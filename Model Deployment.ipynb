{
 "cells": [
  {
   "cell_type": "markdown",
   "metadata": {},
   "source": [
    "# Model Deployment"
   ]
  },
  {
   "cell_type": "code",
   "execution_count": null,
   "metadata": {},
   "outputs": [],
   "source": [
    "# Deploy the model using Flask\n",
    "app = Flask(__name__)\n",
    "run_with_ngrok(app)\n",
    "model_1 = pickle.load(open('model_pickle', 'rb'))\n",
    "\n",
    "@app.route('/')\n",
    "def home():\n",
    "    return render_template('index.html')\n",
    "\n",
    "@app.route('/getprediction',methods=['POST'])\n",
    "def getprediction():\n",
    "    \n",
    "    input = [float(x) for x in request.form.values()]\n",
    "    final_input = [np.array(input)]\n",
    "    prediction = model.predict(final_input)\n",
    "\n",
    "    return render_template('index.html', output='Predicted Weight in KGs :{}'.format(prediction))\n",
    "   \n",
    "\n",
    "if __name__ == \"__main__\":\n",
    "    app.run()"
   ]
  }
 ],
 "metadata": {
  "kernelspec": {
   "display_name": "Python 3",
   "language": "python",
   "name": "python3"
  },
  "language_info": {
   "codemirror_mode": {
    "name": "ipython",
    "version": 3
   },
   "file_extension": ".py",
   "mimetype": "text/x-python",
   "name": "python",
   "nbconvert_exporter": "python",
   "pygments_lexer": "ipython3",
   "version": "3.8.5"
  }
 },
 "nbformat": 4,
 "nbformat_minor": 4
}
